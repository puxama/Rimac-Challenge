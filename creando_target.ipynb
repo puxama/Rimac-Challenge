{
 "cells": [
  {
   "cell_type": "code",
   "execution_count": 1,
   "metadata": {
    "collapsed": true
   },
   "outputs": [],
   "source": [
    "import pandas as pd"
   ]
  },
  {
   "cell_type": "code",
   "execution_count": 2,
   "metadata": {
    "collapsed": true
   },
   "outputs": [],
   "source": [
    "#reading datasets\n",
    "vehiculos = pd.read_csv('BD_VEHICULOS.CSV')\n",
    "cobranzas = pd.read_csv('BD_COBRANZAS.CSV')\n",
    "clientes = pd.read_csv('BD_CLIENTES.CSV')\n",
    "interac_veh = pd.read_csv('BD_INTERAC_VEH.CSV')\n",
    "interac_noveh = pd.read_csv('BD_INTERAC_NOVEH.csv')"
   ]
  },
  {
   "cell_type": "code",
   "execution_count": 3,
   "metadata": {
    "collapsed": false
   },
   "outputs": [],
   "source": [
    "#cleaning datasets\n",
    "vehiculos = vehiculos.drop(['Unnamed: 0', 'Unnamed: 0.1'], axis=1)\n",
    "cobranzas = cobranzas.drop(['Unnamed: 0', 'Unnamed: 0.1'], axis=1)\n",
    "clientes = clientes.drop(['Unnamed: 0'], axis=1)\n",
    "interac_veh = interac_veh.drop(['Unnamed: 0'], axis=1)\n",
    "interac_noveh = interac_noveh.drop(['Unnamed: 0'], axis=1)"
   ]
  },
  {
   "cell_type": "code",
   "execution_count": 4,
   "metadata": {
    "collapsed": false
   },
   "outputs": [],
   "source": [
    "#Pivoting datasets \"interac_veh\" and \"interac_noveh\"\n",
    "interac_veh['contador'] = 1\n",
    "p_interac_veh = pd.pivot_table(interac_veh,values=['contador'],index=['PERIODO', 'CUC'],\n",
    "                               columns=['TIPCASO.RN_DESCRIPTOR'], aggfunc='count', fill_value=0)\n",
    "p_interac_veh = p_interac_veh.reset_index()\n",
    "p_interac_veh.columns = p_interac_veh.columns.droplevel()\n",
    "p_interac_veh.columns = ['PERIODO','CUC', 'Atenciones', 'Consulta', 'Disconformidades', 'Emergencia',\n",
    "                         'Fidelizacion', 'Operacion', 'Operaciones', 'Reclamo', 'Relacionamiento',\n",
    "                         'Requerimientos', 'Solicitud', 'Sugerencias']\n",
    "\n",
    "\n",
    "interac_noveh['contador'] = 1\n",
    "p_interac_noveh = pd.pivot_table(interac_noveh,values=['contador'],index=['PERIODO', 'CUC'],\n",
    "                               columns=['TIPCASO.RN_DESCRIPTOR'], aggfunc='count', fill_value=0)\n",
    "p_interac_noveh = p_interac_noveh.reset_index()\n",
    "p_interac_noveh.columns = p_interac_noveh.columns.droplevel()\n",
    "p_interac_noveh.columns = ['PERIODO','CUC', 'Atenciones', 'Consulta', 'Disconformidades', 'Emergencia',\n",
    "                         'Fidelizacion', 'Operacion', 'Operaciones', 'Reclamo', 'Relacionamiento',\n",
    "                         'Requerimientos', 'Solicitud', 'Sugerencias']"
   ]
  },
  {
   "cell_type": "code",
   "execution_count": 5,
   "metadata": {
    "collapsed": false
   },
   "outputs": [],
   "source": [
    "#merge datasets\n",
    "dataset = vehiculos.merge(clientes, how='left', on='CUC')\n",
    "dataset = dataset.merge(cobranzas, how='left', left_on=['CUC','P_AUTO','PERIODO'], right_on=['CUC','P_AUTO','PERIODO'])\n",
    "dataset = dataset.merge(p_interac_veh, how='left', left_on=['CUC','PERIODO'], right_on=['CUC', 'PERIODO'])\n",
    "dataset = dataset.merge(p_interac_noveh, how='left', left_on=['CUC','PERIODO'], right_on=['CUC', 'PERIODO'])"
   ]
  },
  {
   "cell_type": "code",
   "execution_count": 7,
   "metadata": {
    "collapsed": false
   },
   "outputs": [],
   "source": [
    "#creating \"Deuda\" variable and \"Target\" variable\n",
    "dataset['Deuda'] = 0\n",
    "dataset.loc[dataset['NUM_FACTURAS']>0,'Deuda'] = 1\n",
    "\n",
    "dataset['new_Deuda'] = dataset['Deuda'] + dataset.groupby(['ID_UNICO'])['Deuda'].shift(-1)\n",
    "dataset['new_Deuda'].fillna(0, inplace=True)\n",
    "dataset['Target'] = 0\n",
    "dataset.loc[((dataset['Deuda']==0) & (dataset['new_Deuda']==1)),'Target'] = 1"
   ]
  },
  {
   "cell_type": "code",
   "execution_count": 8,
   "metadata": {
    "collapsed": true
   },
   "outputs": [],
   "source": [
    "#export dataset\n",
    "dataset.to_csv('dataset_full.csv', index=False)"
   ]
  }
 ],
 "metadata": {
  "kernelspec": {
   "display_name": "Python 2",
   "language": "python",
   "name": "python2"
  },
  "language_info": {
   "codemirror_mode": {
    "name": "ipython",
    "version": 2
   },
   "file_extension": ".py",
   "mimetype": "text/x-python",
   "name": "python",
   "nbconvert_exporter": "python",
   "pygments_lexer": "ipython2",
   "version": "2.7.10"
  }
 },
 "nbformat": 4,
 "nbformat_minor": 0
}
